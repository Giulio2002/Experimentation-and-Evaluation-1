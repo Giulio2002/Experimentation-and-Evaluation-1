{
 "cells": [
  {
   "cell_type": "markdown",
   "source": [
    "# Experimentation and Evaluation - Assignment 2\n",
    "## Experiment: camelCase vs kebab-case"
   ],
   "metadata": {
    "collapsed": false
   },
   "id": "8daa083a4e059345"
  },
  {
   "cell_type": "markdown",
   "source": [
    "Import the required libraries and load the results from the csv file containing the experiment data."
   ],
   "metadata": {
    "collapsed": false
   },
   "id": "4698e242fba1d8c6"
  },
  {
   "cell_type": "code",
   "execution_count": null,
   "outputs": [],
   "source": [
    "import numpy as np\n",
    "import pandas as pd\n",
    "import seaborn as sns\n",
    "import matplotlib.pyplot as plt\n",
    "\n",
    "df = pd.read_csv('benchmark.csv')"
   ],
   "metadata": {
    "collapsed": false
   },
   "id": "facd0fabff4d51c1"
  },
  {
   "cell_type": "markdown",
   "source": [
    "Structure the data frame to be cleanly and correctly plotted."
   ],
   "metadata": {
    "collapsed": false
   },
   "id": "d81c54efa00f1a67"
  },
  {
   "cell_type": "code",
   "execution_count": null,
   "outputs": [],
   "source": [],
   "metadata": {
    "collapsed": false
   },
   "id": "8bc0b2ba53d2df34"
  },
  {
   "cell_type": "markdown",
   "source": [
    "Plot the raw results"
   ],
   "metadata": {
    "collapsed": false
   },
   "id": "40a5f53f918d0a52"
  },
  {
   "cell_type": "code",
   "execution_count": null,
   "outputs": [],
   "source": [
    "plt.show()"
   ],
   "metadata": {
    "collapsed": false
   },
   "id": "5c40f3ae0544748e"
  },
  {
   "cell_type": "markdown",
   "source": [
    "Compute z-score"
   ],
   "metadata": {
    "collapsed": false
   },
   "id": "d46d4e02244927d3"
  },
  {
   "cell_type": "code",
   "execution_count": null,
   "outputs": [],
   "source": [
    "cr_mean = np.nanmean(df.CreditScore.values.tolist())\n",
    "cr_std = np.nanstd(df.CreditScore.values.tolist())\n",
    "print(\"Mean Credit Score is: \", cr_mean)\n",
    "print(\"Std Credit Score is: \", cr_std)"
   ],
   "metadata": {
    "collapsed": false
   },
   "id": "e0882cea394cee6a"
  },
  {
   "cell_type": "markdown",
   "source": [
    "z-value plot"
   ],
   "metadata": {
    "collapsed": false
   },
   "id": "fc07087ccdac030d"
  },
  {
   "cell_type": "code",
   "execution_count": null,
   "outputs": [],
   "source": [],
   "metadata": {
    "collapsed": false
   },
   "id": "40a9e82daacfc77b"
  },
  {
   "cell_type": "markdown",
   "source": [
    "Confirm hypothesis"
   ],
   "metadata": {
    "collapsed": false
   },
   "id": "afc0f3368a38c017"
  }
 ],
 "metadata": {
  "kernelspec": {
   "display_name": "Python 3",
   "language": "python",
   "name": "python3"
  },
  "language_info": {
   "codemirror_mode": {
    "name": "ipython",
    "version": 2
   },
   "file_extension": ".py",
   "mimetype": "text/x-python",
   "name": "python",
   "nbconvert_exporter": "python",
   "pygments_lexer": "ipython2",
   "version": "2.7.6"
  }
 },
 "nbformat": 4,
 "nbformat_minor": 5
}
