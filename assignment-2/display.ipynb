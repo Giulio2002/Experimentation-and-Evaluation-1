{
 "cells": [
  {
   "cell_type": "markdown",
   "id": "8daa083a4e059345",
   "metadata": {
    "collapsed": false,
    "jupyter": {
     "outputs_hidden": false
    }
   },
   "source": [
    "# Experimentation and Evaluation - Assignment 2\n",
    "## Experiment: camelCase vs kebab-case"
   ]
  },
  {
   "cell_type": "markdown",
   "id": "4698e242fba1d8c6",
   "metadata": {
    "collapsed": false,
    "jupyter": {
     "outputs_hidden": false
    }
   },
   "source": [
    "Import the required libraries and load the results from the csv file containing the experiment data."
   ]
  },
  {
   "cell_type": "code",
   "execution_count": null,
   "id": "facd0fabff4d51c1",
   "metadata": {
    "collapsed": false,
    "jupyter": {
     "outputs_hidden": false
    }
   },
   "outputs": [],
   "source": [
    "import numpy as np\n",
    "import pandas as pd\n",
    "import seaborn as sns\n",
    "import matplotlib.pyplot as plt\n",
    "\n",
    "df = pd.read_csv('benchmark.csv')"
   ]
  },
  {
   "cell_type": "markdown",
   "id": "d81c54efa00f1a67",
   "metadata": {
    "collapsed": false,
    "jupyter": {
     "outputs_hidden": false
    }
   },
   "source": [
    "Structure the data frame to be cleanly and correctly plotted."
   ]
  },
  {
   "cell_type": "code",
   "execution_count": null,
   "id": "8bc0b2ba53d2df34",
   "metadata": {
    "collapsed": false,
    "jupyter": {
     "outputs_hidden": false
    }
   },
   "outputs": [],
   "source": []
  },
  {
   "cell_type": "markdown",
   "id": "40a5f53f918d0a52",
   "metadata": {
    "collapsed": false,
    "jupyter": {
     "outputs_hidden": false
    }
   },
   "source": [
    "Plot the raw results"
   ]
  },
  {
   "cell_type": "code",
   "execution_count": null,
   "id": "5c40f3ae0544748e",
   "metadata": {
    "collapsed": false,
    "jupyter": {
     "outputs_hidden": false
    }
   },
   "outputs": [],
   "source": [
    "plt.show()"
   ]
  },
  {
   "cell_type": "markdown",
   "id": "d46d4e02244927d3",
   "metadata": {
    "collapsed": false,
    "jupyter": {
     "outputs_hidden": false
    }
   },
   "source": [
    "Compute z-score"
   ]
  },
  {
   "cell_type": "code",
   "execution_count": null,
   "id": "e0882cea394cee6a",
   "metadata": {
    "collapsed": false,
    "jupyter": {
     "outputs_hidden": false
    }
   },
   "outputs": [],
   "source": [
    "cr_mean = np.nanmean(df.CreditScore.values.tolist())\n",
    "cr_std = np.nanstd(df.CreditScore.values.tolist())\n",
    "print(\"Mean Credit Score is: \", cr_mean)\n",
    "print(\"Std Credit Score is: \", cr_std)"
   ]
  },
  {
   "cell_type": "markdown",
   "id": "fc07087ccdac030d",
   "metadata": {
    "collapsed": false,
    "jupyter": {
     "outputs_hidden": false
    }
   },
   "source": [
    "z-value plot"
   ]
  },
  {
   "cell_type": "code",
   "execution_count": null,
   "id": "40a9e82daacfc77b",
   "metadata": {
    "collapsed": false,
    "jupyter": {
     "outputs_hidden": false
    }
   },
   "outputs": [],
   "source": []
  },
  {
   "cell_type": "markdown",
   "id": "afc0f3368a38c017",
   "metadata": {
    "collapsed": false,
    "jupyter": {
     "outputs_hidden": false
    }
   },
   "source": [
    "Confirm hypothesis"
   ]
  }
 ],
 "metadata": {
  "kernelspec": {
   "display_name": "Python 3 (ipykernel)",
   "language": "python",
   "name": "python3"
  },
  "language_info": {
   "codemirror_mode": {
    "name": "ipython",
    "version": 3
   },
   "file_extension": ".py",
   "mimetype": "text/x-python",
   "name": "python",
   "nbconvert_exporter": "python",
   "pygments_lexer": "ipython3",
   "version": "3.10.5"
  }
 },
 "nbformat": 4,
 "nbformat_minor": 5
}
