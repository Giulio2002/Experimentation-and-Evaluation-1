{
 "cells": [
  {
   "cell_type": "markdown",
   "id": "8daa083a4e059345",
   "metadata": {
    "collapsed": false
   },
   "source": [
    "# Experimentation and Evaluation - Assignment 2\n",
    "## Experiment: camelCase vs kebab-case"
   ]
  },
  {
   "cell_type": "markdown",
   "id": "4698e242fba1d8c6",
   "metadata": {
    "collapsed": false
   },
   "source": [
    "Import the required libraries."
   ]
  },
  {
   "cell_type": "code",
   "execution_count": 1,
   "id": "facd0fabff4d51c1",
   "metadata": {
    "collapsed": false,
    "ExecuteTime": {
     "end_time": "2023-12-22T11:12:06.816631338Z",
     "start_time": "2023-12-22T11:12:06.733029441Z"
    }
   },
   "outputs": [],
   "source": [
    "import json\n",
    "\n",
    "# import numpy as np\n",
    "import pandas as pd\n",
    "import scipy.stats as st\n",
    "import seaborn as sns"
   ]
  },
  {
   "cell_type": "markdown",
   "id": "d81c54efa00f1a67",
   "metadata": {
    "collapsed": false
   },
   "source": [
    "Load the results from the json file containing the experiment data.\n",
    "Cluster all the data into its question object to be cleanly and correctly plotted."
   ]
  },
  {
   "cell_type": "code",
   "outputs": [],
   "source": [
    "# get raw data from json\n",
    "json_data: dict\n",
    "with open(\"data.json\", \"r\", encoding=\"utf-8\") as f:\n",
    "    json_data = json.load(f)\n",
    "\n",
    "# cluster questions data structure skeleton\n",
    "NUM_QUESTIONS = 33\n",
    "NUM_WARMUP = 3\n",
    "cluster_questions: dict[str, dict] = {}\n",
    "for i in range(NUM_QUESTIONS):\n",
    "    cluster_questions[f\"question_{i+1}\"] = {\n",
    "        \"is_kebab\": False,\n",
    "        \"samples\": [],\n",
    "        \"df\": pd.DataFrame(),\n",
    "        \"df_zscore\": pd.DataFrame(),\n",
    "    }\n",
    "\n",
    "# populate clusters with user samples\n",
    "for user_sample in json_data:\n",
    "    for i, q in enumerate(user_sample[\"questions\"]):\n",
    "        cluster_questions[f\"question_{i+1}\"][\"samples\"].append(q)\n",
    "\n",
    "# get dataframe and timer z-score per question\n",
    "for _, v in cluster_questions.items():\n",
    "    v[\"df\"] = pd.DataFrame(v[\"samples\"])\n",
    "    v[\"is_kebab\"] = \"-\" in v[\"df\"].correct_word[0]\n",
    "    v[\"df_zscore\"] = v[\"df\"][[\"timer\"]].apply(st.zscore)"
   ],
   "metadata": {
    "collapsed": false,
    "ExecuteTime": {
     "end_time": "2023-12-22T14:13:55.286602132Z",
     "start_time": "2023-12-22T14:13:54.970458009Z"
    }
   },
   "id": "f57d5a2245a15074",
   "execution_count": 32
  },
  {
   "cell_type": "markdown",
   "id": "d46d4e02244927d3",
   "metadata": {
    "collapsed": false
   },
   "source": [
    "### Data categorization\n",
    "\n",
    "to prepare for data analysis and inferential statistics, we need to categorize questions into their types and difficulty length\n",
    "\n",
    "- short: 2 words => 5 camel, 5 kebab case\n",
    "- medium: 4 words => 6 camel, 4 kebab case\n",
    "- long: 6 words => 6 camel, 4 kebab case \n",
    "\n",
    "Notice that the difficulty increases by +2 words each test case.\n",
    "\n",
    "I use 2 separate dataframes for camel and kebab case to make it easier to plot and analyze the data.\n",
    "\n",
    "Each dataframe is filtered by:\n",
    "- mental chronometry: time > 200ms is expected for the result to be considered valid, see [References](README.md)\n",
    "- wrong answers: only correct answers are considered valid, otherwise the timing spent to click the right answer create noise"
   ]
  },
  {
   "cell_type": "code",
   "execution_count": 33,
   "id": "e0882cea394cee6a",
   "metadata": {
    "collapsed": false,
    "ExecuteTime": {
     "end_time": "2023-12-22T14:13:59.477420184Z",
     "start_time": "2023-12-22T14:13:59.389395832Z"
    }
   },
   "outputs": [],
   "source": [
    "# remember first 3 questions are warmup\n",
    "TEST_CASES = {\n",
    "    \"short\": {\"kebab\": [4, 8, 10, 11, 12], \"camel\": [5, 6, 7, 9, 13]},\n",
    "    \"medium\": {\"kebab\": [18, 20, 21, 22], \"camel\": [14, 15, 16, 17, 19, 23]},\n",
    "    \"long\": {\"kebab\": [29, 30, 32, 33], \"camel\": [24, 25, 26, 27, 28, 31]},\n",
    "}\n",
    "\n",
    "\n",
    "def filter_mental_chronometry(df: pd.DataFrame):\n",
    "    \"\"\"filter out mental chronometry outliers\"\"\"\n",
    "    return df[df[\"timer\"] > 200]\n",
    "\n",
    "\n",
    "def filter_wrong_answers(df: pd.DataFrame):\n",
    "    \"\"\"filter out wrong answers\"\"\"\n",
    "    return df[df[\"wrongs\"].apply(lambda x: len(x) == 0)]\n",
    "\n",
    "\n",
    "many_words_kebab = pd.concat(\n",
    "    [\n",
    "        cluster_questions[f\"question_{index}\"][\"df\"]\n",
    "        for cases in TEST_CASES.values()\n",
    "        for index in cases[\"kebab\"]\n",
    "    ]\n",
    ")\n",
    "\n",
    "many_words_kebab = filter_mental_chronometry(many_words_kebab)\n",
    "many_words_kebab = filter_wrong_answers(many_words_kebab)\n",
    "\n",
    "many_words_camel = pd.concat(\n",
    "    [\n",
    "        cluster_questions[f\"question_{index}\"][\"df\"]\n",
    "        for cases in TEST_CASES.values()\n",
    "        for index in cases[\"camel\"]\n",
    "    ]\n",
    ")\n",
    "\n",
    "many_words_camel = filter_mental_chronometry(many_words_camel)\n",
    "many_words_camel = filter_wrong_answers(many_words_camel)"
   ]
  },
  {
   "cell_type": "markdown",
   "source": [
    "Compute z-score: with libraries that encapsulate the translation into a normal distribution and then into a standard distribution to get results with a mean of 0 and a standard deviation of 1."
   ],
   "metadata": {
    "collapsed": false
   },
   "id": "c264e750fa20dae7"
  },
  {
   "cell_type": "code",
   "outputs": [
    {
     "data": {
      "text/plain": "<seaborn.axisgrid.FacetGrid at 0x7fda936d2ec0>"
     },
     "execution_count": 34,
     "metadata": {},
     "output_type": "execute_result"
    },
    {
     "data": {
      "text/plain": "<Figure size 500x500 with 1 Axes>",
      "image/png": "[encoded data removed]"
     },
     "metadata": {},
     "output_type": "display_data"
    }
   ],
   "source": [
    "tmp = pd.DataFrame()\n",
    "for q in cluster_questions.values():\n",
    "    tmp2 = q[\"df\"].copy()\n",
    "    tmp2[\"is_kebab\"] = \"kebab\" if q[\"is_kebab\"] else \"camel\"\n",
    "    tmp = pd.concat([tmp, tmp2])\n",
    "\n",
    "g = sns.catplot(data=tmp, x=\"timer\", y=\"is_kebab\", kind=\"box\")\n",
    "g.set_ylabels(\"Type\")\n",
    "g.set_xlabels(\"Timer (ms)\")"
   ],
   "metadata": {
    "collapsed": false,
    "ExecuteTime": {
     "end_time": "2023-12-22T14:14:03.003445889Z",
     "start_time": "2023-12-22T14:14:01.533554452Z"
    }
   },
   "id": "40a432d25cb39e44",
   "execution_count": 34
  },
  {
   "cell_type": "markdown",
   "id": "fc07087ccdac030d",
   "metadata": {
    "collapsed": false
   },
   "source": [
    "### Hypothesis evaluation\n",
    "\n",
    "![t-distribtion formula](figures/t-distribution.png)\n",
    "\n",
    " \n",
    "Significance level $\\alpha$ is set to 0.05.\n",
    "\n",
    "**Null hypothesis $H_0$ is rejected**: \n",
    "p-value < $\\alpha$, so the difference in means is statistically significant.\n",
    "Meaning, we reject the Null Hypothesis $H_0$."
   ]
  },
  {
   "cell_type": "code",
   "execution_count": 35,
   "id": "40a9e82daacfc77b",
   "metadata": {
    "collapsed": false,
    "ExecuteTime": {
     "end_time": "2023-12-22T14:14:05.794537301Z",
     "start_time": "2023-12-22T14:14:05.692247117Z"
    }
   },
   "outputs": [
    {
     "name": "stdout",
     "output_type": "stream",
     "text": [
      "TtestResult(statistic=-3.5557267830911563, pvalue=0.0004041768826528386, df=653.0)\n"
     ]
    }
   ],
   "source": [
    "kebab_timers = many_words_kebab[\"timer\"]\n",
    "camel_timers = many_words_camel[\"timer\"]\n",
    "res_stat = st.ttest_ind(kebab_timers, camel_timers)\n",
    "print(res_stat)"
   ]
  },
  {
   "cell_type": "markdown",
   "id": "afc0f3368a38c017",
   "metadata": {
    "collapsed": false
   },
   "source": [
    "Confirm hypothesis"
   ]
  },
  {
   "cell_type": "markdown",
   "source": [],
   "metadata": {
    "collapsed": false
   },
   "id": "fd7d03398044118c"
  },
  {
   "cell_type": "markdown",
   "source": [
    "\n",
    "Plot the raw results\n"
   ],
   "metadata": {
    "collapsed": false
   },
   "id": "5d388f1612379a0b"
  },
  {
   "cell_type": "code",
   "outputs": [],
   "source": [
    "q32 = cluster_questions[\"question_32\"]\n",
    "print(q32[\"is_kebab\"])\n",
    "sns.catplot(data=q32[\"df\"], x=\"timer\", jitter=True)\n",
    "\n",
    "q31 = cluster_questions[\"question_31\"]\n",
    "print(q31[\"is_kebab\"])\n",
    "# sns.catplot(data=cluster_questions['question_31']['df'],\n",
    "# x='timer',  kind='violin', color='.9', inner=None)\n",
    "# sns.swarmplot(data=cluster_questions['question_31']['df'], x='timer')\n",
    "sns.catplot(data=q31[\"df\"], x=\"timer\", jitter=True)\n",
    "# cr_mean = np.nanmean(df.CreditScore.values.tolist())\n",
    "# cr_std = np.nanstd(df.CreditScore.values.tolist())\n",
    "# print(\"Mean Credit Score is: \", cr_mean)\n",
    "# print(\"Std Credit Score is: \", cr_std)"
   ],
   "metadata": {
    "collapsed": false
   },
   "id": "45569d0222a45d54"
  }
 ],
 "metadata": {
  "kernelspec": {
   "display_name": "Python 3 (ipykernel)",
   "language": "python",
   "name": "python3"
  },
  "language_info": {
   "codemirror_mode": {
    "name": "ipython",
    "version": 3
   },
   "file_extension": ".py",
   "mimetype": "text/x-python",
   "name": "python",
   "nbconvert_exporter": "python",
   "pygments_lexer": "ipython3",
   "version": "3.10.5"
  }
 },
 "nbformat": 4,
 "nbformat_minor": 5
}
